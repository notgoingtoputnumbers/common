{
 "cells": [
  {
   "cell_type": "code",
   "execution_count": 44,
   "metadata": {},
   "outputs": [
    {
     "name": "stdout",
     "output_type": "stream",
     "text": [
      "Type the name of the initial file initial.csv\n",
      "Type the name of the new file updated.csv\n"
     ]
    }
   ],
   "source": [
    "import pandas as pd\n",
    "\n",
    "initial = input('Type the name of the initial file ')\n",
    "#initial = 'initial.csv'\n",
    "updated = input('Type the name of the new file ')\n",
    "#updated = 'updated.csv'\n",
    "\n",
    "base = pd.read_csv(initial, sep = ';')\n",
    "base.set_index('ID', inplace = True)\n",
    "newdata = pd.read_csv(updated, sep = ';')\n",
    "newdata.set_index('ID', inplace = True)"
   ]
  },
  {
   "cell_type": "code",
   "execution_count": 45,
   "metadata": {},
   "outputs": [],
   "source": [
    "un = pd.merge(base, newdata, how = 'inner', left_index = True, right_index = True)\n",
    "un.drop(un[un['email_y'] != un['email_x']].index, inplace=True)\n",
    "newdata.drop(list(un.index.values), inplace = True)"
   ]
  },
  {
   "cell_type": "code",
   "execution_count": 46,
   "metadata": {},
   "outputs": [],
   "source": [
    "def createfile():\n",
    "    newdata.to_csv('changes in emails.csv')"
   ]
  },
  {
   "cell_type": "code",
   "execution_count": 47,
   "metadata": {},
   "outputs": [
    {
     "name": "stdout",
     "output_type": "stream",
     "text": [
      "8 out of 14 emails have been changed \n",
      "Do you want to write this data to CSV? (y/n)y\n",
      "Do you want to display the first 20? (y/n)y\n",
      "                        email\n",
      "ID                           \n",
      "444444            4@gmail.com\n",
      "555555         five@gmail.com\n",
      "666666   6666666666@gmail.com\n",
      "777777       777777@gmail.com\n",
      "1222221     1222221@gmail.com\n",
      "1444443     1444443@gmail.com\n",
      "1666665     1666665@gmail.com\n",
      "1888887     1888887@gmail.com\n"
     ]
    }
   ],
   "source": [
    "print('{} out of {} emails have been changed '.format(len(newdata), len(base)))\n",
    "if (input('Do you want to write this data to CSV? (y/n)' )) in ['y', 'Y']:\n",
    "    createfile()\n",
    "if (input('Do you want to display the first 20? (y/n)' )) in ['y', 'Y']:\n",
    "    print(newdata.head(20))"
   ]
  },
  {
   "cell_type": "code",
   "execution_count": null,
   "metadata": {},
   "outputs": [],
   "source": []
  }
 ],
 "metadata": {
  "kernelspec": {
   "display_name": "Python 3",
   "language": "python",
   "name": "python3"
  },
  "language_info": {
   "codemirror_mode": {
    "name": "ipython",
    "version": 3
   },
   "file_extension": ".py",
   "mimetype": "text/x-python",
   "name": "python",
   "nbconvert_exporter": "python",
   "pygments_lexer": "ipython3",
   "version": "3.6.4"
  }
 },
 "nbformat": 4,
 "nbformat_minor": 2
}
